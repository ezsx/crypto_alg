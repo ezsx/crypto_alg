{
 "cells": [
  {
   "cell_type": "markdown",
   "source": [
    "\n",
    "**Описание задачи:**\n",
    "\n",
    "Мы реализуем шифрование и расшифрование DES в режиме Output Feedback (OFB). Режим OFB является одним из режимов шифрования блоков, который преобразует блоковый шифр в потоковый шифр. Для этого режима требуется инициализирующий вектор, который генерируется случайным образом и передается вместе с зашифрованным текстом.\n",
    "\n",
    "**Пояснение кода:**\n",
    "\n",
    "Мы используем библиотеку `pycryptodome`, чтобы реализовать шифрование и расшифрование DES. Функция `encrypt_DES_OFB` принимает на вход исходный текст и ключ, генерирует случайный инициализирующий вектор, создает объект шифра DES в режиме OFB и зашифровывает текст. Функция `decrypt_DES_OFB` принимает зашифрованный текст и ключ, извлекает инициализирующий вектор, создает объект шифра DES в режиме OFB и расшифровывает текст.\n",
    "\n",
    "**Текст для шифрования:**\n",
    "\n",
    "Для наглядности давайте возьмем следующий текст: \"This is a secret message. Do not share it with anyone!\""
   ],
   "metadata": {
    "collapsed": false
   },
   "id": "29dd6fc4e7f66e7c"
  },
  {
   "cell_type": "code",
   "execution_count": 2,
   "id": "initial_id",
   "metadata": {
    "collapsed": true,
    "ExecuteTime": {
     "end_time": "2024-03-19T04:12:51.728130500Z",
     "start_time": "2024-03-19T04:12:51.720283800Z"
    }
   },
   "outputs": [
    {
     "name": "stdout",
     "output_type": "stream",
     "text": [
      "Plaintext: b'This is a secret message. Do not share it with anyone!'\n",
      "Encrypted: b'_\\n\\xb4\\xbd\\xd6,\\x81\\x89\\xfc{\\x05|f\\x11\\x02i\\x17u\\x7fA\\xde\\xd9\\x8d{\\xf2\\xf8\\x868\\xbc~P.\\x97d\\x92\\xbe\\x1aF`\\x08\\xc6).\\x12NW\\xfc\\x0b|\\x02{\\x91\\xdcf\\x85\\xcdi9L\\xede,\\xf9\\x88'\n",
      "Decrypted: b'This is a secret message. Do not share it with anyone!'\n"
     ]
    }
   ],
   "source": [
    "from Crypto.Cipher import DES\n",
    "from Crypto.Util.Padding import pad, unpad\n",
    "from Crypto.Random import get_random_bytes\n",
    "\n",
    "def encrypt_DES_OFB(plaintext, key):\n",
    "    iv = get_random_bytes(8)  # Генерируем случайный инициализирующий вектор\n",
    "    cipher = DES.new(key, DES.MODE_OFB, iv)\n",
    "    ciphertext = cipher.encrypt(pad(plaintext, DES.block_size))\n",
    "    return iv + ciphertext\n",
    "\n",
    "def decrypt_DES_OFB(ciphertext, key):\n",
    "    iv = ciphertext[:8]\n",
    "    ciphertext = ciphertext[8:]\n",
    "    cipher = DES.new(key, DES.MODE_OFB, iv)\n",
    "    plaintext = unpad(cipher.decrypt(ciphertext), DES.block_size)\n",
    "    return plaintext\n",
    "\n",
    "# Пример использования\n",
    "plaintext = b\"This is a secret message. Do not share it with anyone!\"\n",
    "key = b\"12345678\"\n",
    "encrypted = encrypt_DES_OFB(plaintext, key)\n",
    "decrypted = decrypt_DES_OFB(encrypted, key)\n",
    "\n",
    "print(\"Plaintext:\", plaintext)\n",
    "print(\"Encrypted:\", encrypted)\n",
    "print(\"Decrypted:\", decrypted)\n"
   ]
  }
 ],
 "metadata": {
  "kernelspec": {
   "display_name": "Python 3",
   "language": "python",
   "name": "python3"
  },
  "language_info": {
   "codemirror_mode": {
    "name": "ipython",
    "version": 2
   },
   "file_extension": ".py",
   "mimetype": "text/x-python",
   "name": "python",
   "nbconvert_exporter": "python",
   "pygments_lexer": "ipython2",
   "version": "2.7.6"
  }
 },
 "nbformat": 4,
 "nbformat_minor": 5
}
