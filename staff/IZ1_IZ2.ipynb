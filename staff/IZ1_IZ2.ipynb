{
 "cells": [
  {
   "cell_type": "markdown",
   "source": [
    "# ИЗ 2"
   ],
   "metadata": {
    "collapsed": false
   },
   "id": "b11216a29f31d7a2"
  },
  {
   "cell_type": "markdown",
   "source": [
    "### 1. Определение и сравнение итеративной и рекурсивной процедур подсчета вершин с двумя потомками\n",
    "\n",
    "Этот скрипт содержит определения класса `TreeNode` для представления узлов бинарного дерева, а также две функции для подсчета количества вершин с двумя потомками: одна итеративная и одна рекурсивная."
   ],
   "metadata": {
    "collapsed": false
   },
   "id": "e2899d4593e992f5"
  },
  {
   "cell_type": "code",
   "outputs": [],
   "source": [
    "class TreeNode:\n",
    "    def __init__(self, value=0, left=None, right=None):\n",
    "        self.value = value\n",
    "        self.left = left\n",
    "        self.right = right\n",
    "\n",
    "\n",
    "def count_double_child_nodes_iterative(root):\n",
    "    if not root:\n",
    "        return 0\n",
    "    count = 0\n",
    "    queue = [root]\n",
    "    while queue:\n",
    "        node = queue.pop(0)\n",
    "        if node.left and node.right:\n",
    "            count += 1\n",
    "        if node.left:\n",
    "            queue.append(node.left)\n",
    "        if node.right:\n",
    "            queue.append(node.right)\n",
    "    return count\n",
    "\n",
    "\n",
    "def count_double_child_nodes_recursive(root):\n",
    "    if not root:\n",
    "        return 0\n",
    "    left = count_double_child_nodes_recursive(root.left)\n",
    "    right = count_double_child_nodes_recursive(root.right)\n",
    "    if root.left and root.right:\n",
    "        return 1 + left + right\n",
    "    else:\n",
    "        return left + right"
   ],
   "metadata": {
    "collapsed": false,
    "ExecuteTime": {
     "end_time": "2024-03-14T10:30:30.646442800Z",
     "start_time": "2024-03-14T10:30:30.605073200Z"
    }
   },
   "id": "d6f6e1e2a37e55bf",
   "execution_count": 1
  },
  {
   "cell_type": "markdown",
   "source": [
    "\n",
    "### 2. Генерация бинарных деревьев и измерение времени выполнения процедур\n",
    "\n",
    "В этом скрипте представлены функции для генерации бинарного дерева заданной глубины, измерения времени выполнения рекурсивной и итеративной процедур подсчета вершин с двумя потомками, а также построения графика и таблицы для сравнения времени выполнения."
   ],
   "metadata": {
    "collapsed": false
   },
   "id": "f8d1b35b2d0e42e9"
  },
  {
   "cell_type": "code",
   "outputs": [
    {
     "data": {
      "text/plain": "<Figure size 1000x600 with 1 Axes>",
      "image/png": "[encoded data removed]"
     },
     "metadata": {},
     "output_type": "display_data"
    }
   ],
   "source": [
    "\n",
    "import time\n",
    "import matplotlib.pyplot as plt\n",
    "import numpy as np\n",
    "\n",
    "\n",
    "def generate_tree(depth, value=1):\n",
    "    if depth == 0:\n",
    "        return None\n",
    "    return TreeNode(value, generate_tree(depth - 1, value * 2), generate_tree(depth - 1, value * 2 + 1))\n",
    "\n",
    "\n",
    "def measure_time(func, root):\n",
    "    start = time.time()\n",
    "    func(root)\n",
    "    end = time.time()\n",
    "    return end - start\n",
    "\n",
    "\n",
    "# Пример использования для генерации деревьев, измерения времени и построения графика\n",
    "depths = [3, 4, 5, 6, 7, 9, 10, 11, 12, 13, 14]\n",
    "recursive_times = []\n",
    "iterative_times = []\n",
    "\n",
    "for depth in depths:\n",
    "    root = generate_tree(depth)\n",
    "    recursive_time = measure_time(count_double_child_nodes_recursive, root)\n",
    "    iterative_time = measure_time(count_double_child_nodes_iterative, root)\n",
    "    recursive_times.append(recursive_time)\n",
    "    iterative_times.append(iterative_time)\n",
    "\n",
    "plt.figure(figsize=(10, 6))\n",
    "index = np.arange(len(depths))\n",
    "bar_width = 0.35\n",
    "plt.bar(index, recursive_times, bar_width, label='Рекурсия')\n",
    "plt.bar(index + bar_width, iterative_times, bar_width, label='Итерация')\n",
    "plt.xlabel('Глубина дерева')\n",
    "plt.ylabel('Время выполнения (с)')\n",
    "plt.xticks(index + bar_width / 2, depths)\n",
    "plt.legend()\n",
    "plt.show()\n"
   ],
   "metadata": {
    "collapsed": false,
    "ExecuteTime": {
     "end_time": "2024-03-14T10:34:56.426540300Z",
     "start_time": "2024-03-14T10:34:56.064128600Z"
    }
   },
   "id": "7a22f02fd0bdfacd",
   "execution_count": 16
  },
  {
   "cell_type": "markdown",
   "source": [
    "# ИЗ 1"
   ],
   "metadata": {
    "collapsed": false
   },
   "id": "e75a83b2eed0b51f"
  },
  {
   "cell_type": "markdown",
   "source": [
    "\n",
    "### Создание графа\n",
    "\n",
    "Используя библиотеку NetworkX, создается пример неориентированного графа `G` с ребрами, соединяющими вершины в указанной последовательности:"
   ],
   "metadata": {
    "collapsed": false
   },
   "id": "d2f0e8b025912d98"
  },
  {
   "cell_type": "code",
   "outputs": [],
   "source": [
    "\n",
    "import networkx as nx\n",
    "import itertools\n",
    "\n",
    "G = nx.Graph()\n",
    "G.add_edges_from([(1, 2), (2, 3), (3, 4), (4, 1), (1, 3), (2, 4)])\n"
   ],
   "metadata": {
    "collapsed": false,
    "ExecuteTime": {
     "end_time": "2024-03-14T10:31:29.494637900Z",
     "start_time": "2024-03-14T10:31:29.124221Z"
    }
   },
   "id": "14771e7e2d58b30a",
   "execution_count": 3
  },
  {
   "cell_type": "markdown",
   "source": [
    "\n",
    "### Функция проверки вершинного покрытия\n",
    "\n",
    "`is_vertex_cover(G, vertex_cover)` проверяет, является ли предложенное множество вершин `vertex_cover` вершинным покрытием для графа `G`:"
   ],
   "metadata": {
    "collapsed": false
   },
   "id": "9ec90076630725b2"
  },
  {
   "cell_type": "code",
   "outputs": [],
   "source": [
    "def is_vertex_cover(G, vertex_cover):\n",
    "    covered_edges = set()\n",
    "    for vertex in vertex_cover:\n",
    "        for neighbor in G.neighbors(vertex):\n",
    "            covered_edges.add(frozenset([vertex, neighbor]))\n",
    "    return len(covered_edges) == G.number_of_edges()"
   ],
   "metadata": {
    "collapsed": false,
    "ExecuteTime": {
     "end_time": "2024-03-14T10:31:29.530672800Z",
     "start_time": "2024-03-14T10:31:29.497495200Z"
    }
   },
   "id": "5213b39a237cbb1e",
   "execution_count": 4
  },
  {
   "cell_type": "markdown",
   "source": [
    "\n",
    "\n",
    "### Точный алгоритм\n",
    "\n",
    "`exact_vertex_cover(G)` ищет минимальное вершинное покрытие графа `G`, перебирая все возможные комбинации вершин:\n"
   ],
   "metadata": {
    "collapsed": false
   },
   "id": "644227560c0a1cb7"
  },
  {
   "cell_type": "code",
   "outputs": [],
   "source": [
    "\n",
    "def exact_vertex_cover(G):\n",
    "    n = G.number_of_nodes()\n",
    "    for k in range(1, n + 1):\n",
    "        for vertices in itertools.combinations(G.nodes(), k):\n",
    "            if is_vertex_cover(G, vertices):\n",
    "                return set(vertices)\n",
    "    return None"
   ],
   "metadata": {
    "collapsed": false,
    "ExecuteTime": {
     "end_time": "2024-03-14T10:31:29.531670600Z",
     "start_time": "2024-03-14T10:31:29.505478200Z"
    }
   },
   "id": "4206039c13206299",
   "execution_count": 5
  },
  {
   "cell_type": "markdown",
   "source": [
    "\n",
    "### Жадный алгоритм\n",
    "\n",
    "`greedy_vertex_cover(G)` реализует жадный подход к нахождению вершинного покрытия, последовательно выбирая рёбра и включая их вершины в покрытие:"
   ],
   "metadata": {
    "collapsed": false
   },
   "id": "90ac47dd0b39855f"
  },
  {
   "cell_type": "code",
   "outputs": [],
   "source": [
    "\n",
    "def greedy_vertex_cover(G):\n",
    "    cover = set()\n",
    "    edges = set(G.edges())\n",
    "    while edges:\n",
    "        u, v = edges.pop()\n",
    "        cover.update([u, v])\n",
    "        edges.difference_update(set(G.edges([u, v])))\n",
    "    return cover"
   ],
   "metadata": {
    "collapsed": false,
    "ExecuteTime": {
     "end_time": "2024-03-14T10:31:29.554692500Z",
     "start_time": "2024-03-14T10:31:29.511499300Z"
    }
   },
   "id": "ad545569484f9f4d",
   "execution_count": 6
  },
  {
   "cell_type": "markdown",
   "source": [
    "\n",
    "### Алгоритм с использованием максимальных степеней вершин\n",
    "\n",
    "`max_degree_vertex_cover(G)` выбирает вершины с максимальной степенью для включения в покрытие:"
   ],
   "metadata": {
    "collapsed": false
   },
   "id": "91c6c7d05b61ce1d"
  },
  {
   "cell_type": "code",
   "outputs": [],
   "source": [
    "\n",
    "def max_degree_vertex_cover(G):\n",
    "    cover = set()\n",
    "    temp_graph = G.copy()\n",
    "    while temp_graph.number_of_edges() > 0:\n",
    "        max_degree_node = max(temp_graph.degree, key=lambda x: x[1])[0]\n",
    "        cover.add(max_degree_node)\n",
    "        temp_graph.remove_node(max_degree_node)\n",
    "    return cover"
   ],
   "metadata": {
    "collapsed": false,
    "ExecuteTime": {
     "end_time": "2024-03-14T10:31:29.554692500Z",
     "start_time": "2024-03-14T10:31:29.517273500Z"
    }
   },
   "id": "ec0f87385eaa3300",
   "execution_count": 7
  },
  {
   "cell_type": "markdown",
   "source": [
    "\n",
    "### Алгоритм с удалением рёбер\n",
    "\n",
    "`edge_removal_vertex_cover(G)` удаляет рёбра, инцидентные выбранным вершинам, до тех пор, пока все рёбра не будут покрыты:"
   ],
   "metadata": {
    "collapsed": false
   },
   "id": "124231dd0bf09080"
  },
  {
   "cell_type": "code",
   "outputs": [],
   "source": [
    "\n",
    "def edge_removal_vertex_cover(G):\n",
    "    cover = set()\n",
    "    temp_graph = G.copy()\n",
    "    while temp_graph.number_of_edges() > 0:\n",
    "        edge = next(iter(temp_graph.edges))\n",
    "        u, v = edge\n",
    "        cover.update([u, v])\n",
    "        temp_graph.remove_nodes_from([u, v])\n",
    "    return cover"
   ],
   "metadata": {
    "collapsed": false,
    "ExecuteTime": {
     "end_time": "2024-03-14T10:31:29.556660600Z",
     "start_time": "2024-03-14T10:31:29.526293500Z"
    }
   },
   "id": "87b1809032c51f2b",
   "execution_count": 8
  },
  {
   "cell_type": "markdown",
   "source": [
    "\n",
    "### Вывод результатов\n",
    "\n",
    "В конце программы выводятся результаты выполнения всех алгоритмов:"
   ],
   "metadata": {
    "collapsed": false
   },
   "id": "d0330704dba55ce1"
  },
  {
   "cell_type": "code",
   "outputs": [
    {
     "name": "stdout",
     "output_type": "stream",
     "text": [
      "Граф: [(1, 2), (1, 4), (1, 3), (2, 3), (2, 4), (3, 4)]\n",
      "Точный алгоритм: {1, 2, 3}\n",
      "Жадный алгоритм: {1, 2, 3, 4}\n",
      "Алгоритм с использованием максимальных степеней вершин: {1, 2, 3}\n",
      "Алгоритм с удалением рёбер: {1, 2, 3, 4}\n"
     ]
    }
   ],
   "source": [
    "print('Граф:', G.edges())\n",
    "print('Точный алгоритм:', exact_vertex_cover(G))\n",
    "print('Жадный алгоритм:', greedy_vertex_cover(G))\n",
    "print('Алгоритм с использованием максимальных степеней вершин:', max_degree_vertex_cover(G))\n",
    "print('Алгоритм с удалением рёбер:', edge_removal_vertex_cover(G))\n"
   ],
   "metadata": {
    "collapsed": false,
    "ExecuteTime": {
     "end_time": "2024-03-14T10:33:08.393598500Z",
     "start_time": "2024-03-14T10:33:08.387315700Z"
    }
   },
   "id": "dd7a79b444c1123",
   "execution_count": 9
  },
  {
   "cell_type": "markdown",
   "source": [
    "\n",
    "**Результаты**:\n",
    "- Точный алгоритм и алгоритм с использованием максимальных степеней вершин нашли минимальное вершинное покрытие, состоящее из вершин {1, 2, 3}.\n",
    "- Жадный алгоритм и алгоритм с удалением рёбер предложили вершинное покрытие {1, 2, 3, 4}, которое не является минимальным."
   ],
   "metadata": {
    "collapsed": false
   },
   "id": "8f08c1bb7f93499b"
  }
 ],
 "metadata": {
  "kernelspec": {
   "display_name": "Python 3",
   "language": "python",
   "name": "python3"
  },
  "language_info": {
   "codemirror_mode": {
    "name": "ipython",
    "version": 2
   },
   "file_extension": ".py",
   "mimetype": "text/x-python",
   "name": "python",
   "nbconvert_exporter": "python",
   "pygments_lexer": "ipython2",
   "version": "2.7.6"
  }
 },
 "nbformat": 4,
 "nbformat_minor": 5
}
