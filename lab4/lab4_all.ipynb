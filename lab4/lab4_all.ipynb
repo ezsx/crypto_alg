{
 "cells": [
  {
   "cell_type": "code",
   "outputs": [],
   "source": [
    "def find_cyclotomic_classes(n):\n",
    "    modulus = 2 ** n - 1\n",
    "    classes = []\n",
    "    found = set()\n",
    "    for i in range(1, modulus + 1):  # Учитываем все элементы до 2^n - 1\n",
    "        if i not in found:\n",
    "            current_class = set()\n",
    "            value = i\n",
    "            while value not in current_class:\n",
    "                current_class.add(value)\n",
    "                found.add(value)\n",
    "                value = (value * 2) % (modulus + 1)\n",
    "            classes.append(sorted(current_class)[1:])\n",
    "    print(f\"Цикломатические классы для GF(2^{n}):\")\n",
    "    return classes\n",
    "\n",
    "\n",
    "def binary_to_polynomial(binary):\n",
    "    binary_str = bin(binary)[2:]\n",
    "    result = \"\"\n",
    "    degree = len(binary_str) - 1\n",
    "    for i, bit in enumerate(binary_str):\n",
    "        if bit == '1':\n",
    "            if degree - i > 1:\n",
    "                result += f\"x^{degree - i} + \"\n",
    "            elif degree - i == 1:\n",
    "                result += \"x + \"\n",
    "            else:\n",
    "                result += \"1\"\n",
    "    if result.endswith(\" + \"):\n",
    "        result = result[:-3]\n",
    "    return result\n",
    "\n",
    "\n",
    "def multiply_by_alpha(alpha, modulus, n):\n",
    "    # Умножение alpha на x с учетом степени n для GF(2^n)\n",
    "    result = alpha << 1\n",
    "    # Проверяем, превышает ли результат предел для GF(2^n)\n",
    "    if result >= 2 ** n:\n",
    "        result ^= modulus  # Редукция по модулю образующего многочлена (XOR)\n",
    "    return result\n",
    "\n",
    "def reduce_alpha(alpha, modulus, m):\n",
    "    max_degree = 2**(m)  # Максимально возможное значение для GF(2^m) равно 2^m, а не 2^(m-1)\n",
    "    while alpha >= max_degree:\n",
    "        # Находим степень текущего alpha\n",
    "        degree_alpha = alpha.bit_length() - 1\n",
    "        # Находим степень модуля\n",
    "        degree_modulus = modulus.bit_length() - 1\n",
    "        # Проверяем, что degree_alpha >= degree_modulus для корректного сдвига\n",
    "        if degree_alpha >= degree_modulus:\n",
    "            # Сдвигаем модуль на разницу степеней\n",
    "            shifted_modulus = modulus << (degree_alpha - degree_modulus)\n",
    "            # Применяем XOR для редукции\n",
    "            alpha ^= shifted_modulus\n",
    "        else:\n",
    "            # Если alpha меньше степени модуля, дальнейшая редукция не требуется\n",
    "            break\n",
    "    return alpha\n",
    "\n",
    "def generate_elements_and_minimal_polynomials(n, modulus, alpha=0b10):\n",
    "    # Начинаем с 1 (единичный многочлен)\n",
    "    elements = [1]\n",
    "    alpha = reduce_alpha(alpha, modulus, n)\n",
    "    # Начальное значение alpha по умолчанию: (x)\n",
    "    for _ in range(1, 2 ** n - 1):  # Генерируем все элементы поля GF(2^n)\n",
    "        alpha = multiply_by_alpha(alpha, modulus, n)\n",
    "        elements.append(alpha)\n",
    "\n",
    "    # Выводим элементы поля и их полиномиальное представление\n",
    "    print(\"Элементы поля GF(2^{}):\".format(n))\n",
    "    for element in elements:\n",
    "        print(binary_to_polynomial(element))\n"
   ],
   "metadata": {
    "collapsed": false,
    "ExecuteTime": {
     "end_time": "2024-03-10T14:12:12.485089100Z",
     "start_time": "2024-03-10T14:12:12.398852200Z"
    }
   },
   "id": "3958ec08226797b5",
   "execution_count": 11
  },
  {
   "cell_type": "markdown",
   "source": [
    "#### № 1 Выделить циклотомические классы и найти соответствующие им минимальные многочлены для поля GF(16) для образующего многочлена 11001 \n",
    "\n",
    "Для решения данной задачи выполним следующие шаги:\n",
    "\n",
    "1. **Определение циклотомических классов**:\n",
    "   - Циклотомические классы определяются в поле GF(2n) для n-степенного многочлена. В данном случае, для GF(16), n=4, так как 16=2^4. \n",
    "   - Циклотомические классы определяются по модулю 2^n - 1, в нашем случае, по модулю 15.\n",
    "   - Для каждого элемента в {0, 1, ..., 14} вычислим его множество, возводя его в степени 2^k до тех пор, пока не получим начальное число, все операции выполняются по модулю 15.\n"
   ],
   "metadata": {
    "collapsed": false
   },
   "id": "8f5758ee8a04cf08"
  },
  {
   "cell_type": "code",
   "execution_count": 20,
   "id": "initial_id",
   "metadata": {
    "collapsed": true,
    "ExecuteTime": {
     "end_time": "2024-03-10T14:23:34.816832500Z",
     "start_time": "2024-03-10T14:23:34.803887100Z"
    }
   },
   "outputs": [
    {
     "name": "stdout",
     "output_type": "stream",
     "text": [
      "Цикломатические классы для GF(2^5):\n"
     ]
    },
    {
     "data": {
      "text/plain": "[[1, 2, 4, 8, 16],\n [3, 6, 12, 16, 24],\n [5, 8, 10, 16, 20],\n [7, 14, 16, 24, 28],\n [4, 8, 9, 16, 18],\n [11, 12, 16, 22, 24],\n [8, 13, 16, 20, 26],\n [15, 16, 24, 28, 30],\n [2, 4, 8, 16, 17],\n [6, 12, 16, 19, 24],\n [8, 10, 16, 20, 21],\n [14, 16, 23, 24, 28],\n [4, 8, 16, 18, 25],\n [12, 16, 22, 24, 27],\n [8, 16, 20, 26, 29],\n [16, 24, 28, 30, 31]]"
     },
     "execution_count": 20,
     "metadata": {},
     "output_type": "execute_result"
    }
   ],
   "source": [
    "find_cyclotomic_classes(5)\n"
   ]
  },
  {
   "cell_type": "markdown",
   "source": [
    "Чтобы показать все 16 элементов поля GF(16), используя образующий многочлен $m(x) = x^4 + x^3 + 1$ (в двоичной форме 11001), мы можем начать с определения элемента $\\alpha$, который является корнем данного образующего многочлена, и затем генерировать все элементы поля, последовательно умножая $\\alpha$ на себя и редуцируя результаты с помощью образующего многочлена при необходимости.\n",
    "\n",
    "В поле GF(16), элементы можно представить как многочлены степени меньше 4 над GF(2). Таким образом, элементы поля могут быть записаны как $0, 1, \\alpha, \\alpha^2, ..., \\alpha^{14}$, где $\\alpha^4 = \\alpha^3 + 1$, что следует из образующего многочлена.\n",
    "\n",
    "Для сложения используется XOR (исключающее ИЛИ), так как операция сложения в GF(2^n) эквивалентна сложению без переноса.\n",
    "\n",
    "Вот как мы можем генерировать и показывать все элементы поля GF(16):\n",
    "\n",
    "1. Начнем с $1$ (единица в двоичном виде: 0001) и $\\alpha$ (которое мы можем считать равным 0010, представляющее $x$).\n",
    "2. Последовательно умножаем $\\alpha$ на себя, редуцируя результат через образующий многочлен при необходимости, чтобы поддерживать степень многочлена меньше 4.\n",
    "3. Применяем операцию XOR для имитации сложения многочленов по модулю 2, чтобы получить следующий элемент поля при каждом умножении.\n"
   ],
   "metadata": {
    "collapsed": false
   },
   "id": "203b192230af01a3"
  },
  {
   "cell_type": "code",
   "outputs": [
    {
     "name": "stdout",
     "output_type": "stream",
     "text": [
      "Элементы поля GF(2^4):\n",
      "1\n",
      "x^2\n",
      "x^3\n",
      "x^3 + 1\n",
      "x^3 + x + 1\n",
      "x^3 + x^2 + x + 1\n",
      "x^2 + x + 1\n",
      "x^3 + x^2 + x\n",
      "x^2 + 1\n",
      "x^3 + x\n",
      "x^3 + x^2 + 1\n",
      "x + 1\n",
      "x^2 + x\n",
      "x^3 + x^2\n",
      "1\n"
     ]
    }
   ],
   "source": [
    "generate_elements_and_minimal_polynomials(4,0b11001)\n",
    "    "
   ],
   "metadata": {
    "collapsed": false,
    "ExecuteTime": {
     "end_time": "2024-03-10T14:12:12.565725100Z",
     "start_time": "2024-03-10T14:12:12.539598Z"
    }
   },
   "id": "46680ed8b6e91b0e",
   "execution_count": 13
  },
  {
   "cell_type": "markdown",
   "source": [
    "#### № 2 Выделить циклотомические классы и найти соответствующие им минимальные многочлены для поля GF(16) для образующего многочлена 10011"
   ],
   "metadata": {
    "collapsed": false
   },
   "id": "47570773420240c5"
  },
  {
   "cell_type": "code",
   "outputs": [
    {
     "name": "stdout",
     "output_type": "stream",
     "text": [
      "Цикломатические классы для GF(2^4):\n",
      "Элементы поля GF(2^4):\n",
      "1\n",
      "x^2\n",
      "x^3\n",
      "x + 1\n",
      "x^2 + x\n",
      "x^3 + x^2\n",
      "x^3 + x + 1\n",
      "x^2 + 1\n",
      "x^3 + x\n",
      "x^2 + x + 1\n",
      "x^3 + x^2 + x\n",
      "x^3 + x^2 + x + 1\n",
      "x^3 + x^2 + 1\n",
      "x^3 + 1\n",
      "1\n"
     ]
    }
   ],
   "source": [
    "find_cyclotomic_classes(4)\n",
    "generate_elements_and_minimal_polynomials(4,0b10011)"
   ],
   "metadata": {
    "collapsed": false,
    "ExecuteTime": {
     "end_time": "2024-03-10T14:12:12.615202200Z",
     "start_time": "2024-03-10T14:12:12.568690800Z"
    }
   },
   "id": "4a374b13ffcad8e9",
   "execution_count": 14
  },
  {
   "cell_type": "markdown",
   "source": [
    "#### № 3-7 Для многочлена $х, x^3 ,x^5 ,x^7$ над полем $GF (2^5)$ с образующим многочленом $x^5+x^2+1$ найти циклотомический класс и минимальный многочлен."
   ],
   "metadata": {
    "collapsed": false
   },
   "id": "823f4b155434bd24"
  },
  {
   "cell_type": "code",
   "outputs": [
    {
     "name": "stdout",
     "output_type": "stream",
     "text": [
      "Цикломатические классы для GF(2^5):\n",
      "[[1, 2, 4, 8, 16], [3, 6, 12, 16, 24], [5, 8, 10, 16, 20], [7, 14, 16, 24, 28], [4, 8, 9, 16, 18], [11, 12, 16, 22, 24], [8, 13, 16, 20, 26], [15, 16, 24, 28, 30], [2, 4, 8, 16, 17], [6, 12, 16, 19, 24], [8, 10, 16, 20, 21], [14, 16, 23, 24, 28], [4, 8, 16, 18, 25], [12, 16, 22, 24, 27], [8, 16, 20, 26, 29], [16, 24, 28, 30, 31]]\n",
      "Элементы поля GF(2^5):\n",
      "1\n",
      "x^2\n",
      "x^3\n",
      "x^4\n",
      "x^2 + 1\n",
      "x^3 + x\n",
      "x^4 + x^2\n",
      "x^3 + x^2 + 1\n",
      "x^4 + x^3 + x\n",
      "x^4 + 1\n",
      "x^2 + x + 1\n",
      "x^3 + x^2 + x\n",
      "x^4 + x^3 + x^2\n",
      "x^4 + x^3 + x^2 + 1\n",
      "x^4 + x^3 + x^2 + x + 1\n",
      "x^4 + x^3 + x + 1\n",
      "x^4 + x + 1\n",
      "x + 1\n",
      "x^2 + x\n",
      "x^3 + x^2\n",
      "x^4 + x^3\n",
      "x^4 + x^2 + 1\n",
      "x^3 + x^2 + x + 1\n",
      "x^4 + x^3 + x^2 + x\n",
      "x^4 + x^3 + 1\n",
      "x^4 + x^2 + x + 1\n",
      "x^3 + x + 1\n",
      "x^4 + x^2 + x\n",
      "x^3 + 1\n",
      "x^4 + x\n",
      "1\n",
      "Элементы поля GF(2^5):\n",
      "1\n",
      "x^3\n",
      "x^4\n",
      "x^2 + 1\n",
      "x^3 + x\n",
      "x^4 + x^2\n",
      "x^3 + x^2 + 1\n",
      "x^4 + x^3 + x\n",
      "x^4 + 1\n",
      "x^2 + x + 1\n",
      "x^3 + x^2 + x\n",
      "x^4 + x^3 + x^2\n",
      "x^4 + x^3 + x^2 + 1\n",
      "x^4 + x^3 + x^2 + x + 1\n",
      "x^4 + x^3 + x + 1\n",
      "x^4 + x + 1\n",
      "x + 1\n",
      "x^2 + x\n",
      "x^3 + x^2\n",
      "x^4 + x^3\n",
      "x^4 + x^2 + 1\n",
      "x^3 + x^2 + x + 1\n",
      "x^4 + x^3 + x^2 + x\n",
      "x^4 + x^3 + 1\n",
      "x^4 + x^2 + x + 1\n",
      "x^3 + x + 1\n",
      "x^4 + x^2 + x\n",
      "x^3 + 1\n",
      "x^4 + x\n",
      "1\n",
      "x\n",
      "Элементы поля GF(2^5):\n",
      "1\n",
      "x^2 + 1\n",
      "x^3 + x\n",
      "x^4 + x^2\n",
      "x^3 + x^2 + 1\n",
      "x^4 + x^3 + x\n",
      "x^4 + 1\n",
      "x^2 + x + 1\n",
      "x^3 + x^2 + x\n",
      "x^4 + x^3 + x^2\n",
      "x^4 + x^3 + x^2 + 1\n",
      "x^4 + x^3 + x^2 + x + 1\n",
      "x^4 + x^3 + x + 1\n",
      "x^4 + x + 1\n",
      "x + 1\n",
      "x^2 + x\n",
      "x^3 + x^2\n",
      "x^4 + x^3\n",
      "x^4 + x^2 + 1\n",
      "x^3 + x^2 + x + 1\n",
      "x^4 + x^3 + x^2 + x\n",
      "x^4 + x^3 + 1\n",
      "x^4 + x^2 + x + 1\n",
      "x^3 + x + 1\n",
      "x^4 + x^2 + x\n",
      "x^3 + 1\n",
      "x^4 + x\n",
      "1\n",
      "x\n",
      "x^2\n",
      "x^3\n",
      "Элементы поля GF(2^5):\n",
      "1\n",
      "x^4 + x^2\n",
      "x^3 + x^2 + 1\n",
      "x^4 + x^3 + x\n",
      "x^4 + 1\n",
      "x^2 + x + 1\n",
      "x^3 + x^2 + x\n",
      "x^4 + x^3 + x^2\n",
      "x^4 + x^3 + x^2 + 1\n",
      "x^4 + x^3 + x^2 + x + 1\n",
      "x^4 + x^3 + x + 1\n",
      "x^4 + x + 1\n",
      "x + 1\n",
      "x^2 + x\n",
      "x^3 + x^2\n",
      "x^4 + x^3\n",
      "x^4 + x^2 + 1\n",
      "x^3 + x^2 + x + 1\n",
      "x^4 + x^3 + x^2 + x\n",
      "x^4 + x^3 + 1\n",
      "x^4 + x^2 + x + 1\n",
      "x^3 + x + 1\n",
      "x^4 + x^2 + x\n",
      "x^3 + 1\n",
      "x^4 + x\n",
      "1\n",
      "x\n",
      "x^2\n",
      "x^3\n",
      "x^4\n",
      "x^2 + 1\n"
     ]
    }
   ],
   "source": [
    "print(find_cyclotomic_classes(5))\n",
    "generate_elements_and_minimal_polynomials(5,0b100101,0b10)\n",
    "generate_elements_and_minimal_polynomials(5,0b100101,0b100)\n",
    "generate_elements_and_minimal_polynomials(5,0b100101,0b10000)\n",
    "generate_elements_and_minimal_polynomials(5,0b100101,0b1000000)"
   ],
   "metadata": {
    "collapsed": false,
    "ExecuteTime": {
     "end_time": "2024-03-10T14:12:12.675469600Z",
     "start_time": "2024-03-10T14:12:12.621346700Z"
    }
   },
   "id": "8a09e4c6ca0eb80a",
   "execution_count": 15
  },
  {
   "cell_type": "markdown",
   "source": [
    "#### № 7 Построить циклотомические классы и минимальные многочлены в поле Галуа $x^5+x^3+1$"
   ],
   "metadata": {
    "collapsed": false
   },
   "id": "4cd7b9a86a530066"
  },
  {
   "cell_type": "code",
   "outputs": [
    {
     "name": "stdout",
     "output_type": "stream",
     "text": [
      "Элементы поля GF(2^5):\n",
      "1\n",
      "x + 1\n",
      "x^2\n",
      "x^2 + 1\n",
      "x^2 + x\n",
      "x^2 + x + 1\n",
      "x^3\n",
      "x^3 + 1\n",
      "x^3 + x\n",
      "x^3 + x + 1\n",
      "x^3 + x^2\n",
      "x^3 + x^2 + 1\n",
      "x^3 + x^2 + x\n",
      "x^3 + x^2 + x + 1\n",
      "x^4\n",
      "x^4 + 1\n",
      "x^4 + x\n",
      "x^4 + x + 1\n",
      "x^4 + x^2\n",
      "x^4 + x^2 + 1\n",
      "x^4 + x^2 + x\n",
      "x^4 + x^2 + x + 1\n",
      "x^4 + x^3\n",
      "x^4 + x^3 + 1\n",
      "x^4 + x^3 + x\n",
      "x^4 + x^3 + x + 1\n",
      "x^4 + x^3 + x^2\n",
      "x^4 + x^3 + x^2 + 1\n",
      "x^4 + x^3 + x^2 + x\n",
      "x^4 + x^3 + x^2 + x + 1\n"
     ]
    }
   ],
   "source": [
    "def generate_all_elements_and_minimal_polynomials(m, modulus, alpha_start):\n",
    "    # переберем все alpha и найдем все уникальные элементы поля\n",
    "    # Начинаем с начального значения alpha\n",
    "    alpha = alpha_start\n",
    "    elements = [1]  # 1 всегда присутствует в поле GF(2^m)\n",
    "    \n",
    "    # Генерируем элементы поля GF(2^m)\n",
    "    for _ in range(1, 2**m - 1):\n",
    "        alpha = reduce_alpha(multiply_by_alpha(alpha, modulus, m), modulus, m)\n",
    "        if alpha not in elements:  # Убедимся, что элементы уникальны\n",
    "            elements.append(alpha)\n",
    "    \n",
    "    # Выводим элементы поля и их полиномиальное представление\n",
    "    print(\"Элементы поля GF(2^{}):\".format(m))\n",
    "    elements.sort()\n",
    "    for element in elements:\n",
    "        print(binary_to_polynomial(element))\n",
    "\n",
    "# Параметры поля\n",
    "m = 5\n",
    "modulus = 0b101001  # Образующий многочлен x^5 + x^3 + 1\n",
    "\n",
    "# Вызываем функцию для генерации элементов и вычисления минимальных многочленов\n",
    "generate_all_elements_and_minimal_polynomials(m, modulus, 0b10)  # для alpha = x\n"
   ],
   "metadata": {
    "collapsed": false,
    "ExecuteTime": {
     "end_time": "2024-03-10T14:12:12.695960700Z",
     "start_time": "2024-03-10T14:12:12.677733300Z"
    }
   },
   "id": "d944c903f9ba60de",
   "execution_count": 16
  },
  {
   "cell_type": "markdown",
   "source": [
    "#### № 8 Построить циклотомические классы и минимальные многочлены в поле Галуа $x^5+x^3+x^2+x+1$"
   ],
   "metadata": {
    "collapsed": false
   },
   "id": "c8dc5ec6cc61959a"
  },
  {
   "cell_type": "code",
   "outputs": [
    {
     "name": "stdout",
     "output_type": "stream",
     "text": [
      "Элементы поля GF(2^5):\n",
      "1\n",
      "x^2\n",
      "x^3\n",
      "x^4\n",
      "x^3 + x^2 + x + 1\n",
      "x^4 + x^3 + x^2 + x\n",
      "x^4 + x + 1\n",
      "x^3 + 1\n",
      "x^4 + x\n",
      "x^3 + x + 1\n",
      "x^4 + x^2 + x\n",
      "x + 1\n",
      "x^2 + x\n",
      "x^3 + x^2\n",
      "x^4 + x^3\n",
      "x^4 + x^3 + x^2 + x + 1\n",
      "x^4 + 1\n",
      "x^3 + x^2 + 1\n",
      "x^4 + x^3 + x\n",
      "x^4 + x^3 + x + 1\n",
      "x^4 + x^3 + 1\n",
      "x^4 + x^3 + x^2 + 1\n",
      "x^4 + x^2 + 1\n",
      "x^2 + 1\n",
      "x^3 + x\n",
      "x^4 + x^2\n",
      "x^2 + x + 1\n",
      "x^3 + x^2 + x\n",
      "x^4 + x^3 + x^2\n",
      "x^4 + x^2 + x + 1\n",
      "1\n"
     ]
    }
   ],
   "source": [
    "# Параметры поля\n",
    "m = 5\n",
    "modulus = 0b101111  # Образующий многочлен x^5+x^3+x^2+x+1\n",
    "generate_elements_and_minimal_polynomials(m, modulus, 0b10)  # для alpha = x"
   ],
   "metadata": {
    "collapsed": false,
    "ExecuteTime": {
     "end_time": "2024-03-10T14:12:12.748678100Z",
     "start_time": "2024-03-10T14:12:12.700817400Z"
    }
   },
   "id": "ca1f54f69bc78164",
   "execution_count": 17
  },
  {
   "cell_type": "code",
   "outputs": [
    {
     "name": "stdout",
     "output_type": "stream",
     "text": [
      "Элементы поля GF(2^5):\n",
      "1\n",
      "x^2\n",
      "x^3\n",
      "x^4\n",
      "x^2 + 1\n",
      "x^3 + x\n",
      "x^4 + x^2\n",
      "x^3 + x^2 + 1\n",
      "x^4 + x^3 + x\n",
      "x^4 + 1\n",
      "x^2 + x + 1\n",
      "x^3 + x^2 + x\n",
      "x^4 + x^3 + x^2\n",
      "x^4 + x^3 + x^2 + 1\n",
      "x^4 + x^3 + x^2 + x + 1\n",
      "x^4 + x^3 + x + 1\n",
      "x^4 + x + 1\n",
      "x + 1\n",
      "x^2 + x\n",
      "x^3 + x^2\n",
      "x^4 + x^3\n",
      "x^4 + x^2 + 1\n",
      "x^3 + x^2 + x + 1\n",
      "x^4 + x^3 + x^2 + x\n",
      "x^4 + x^3 + 1\n",
      "x^4 + x^2 + x + 1\n",
      "x^3 + x + 1\n",
      "x^4 + x^2 + x\n",
      "x^3 + 1\n",
      "x^4 + x\n",
      "1\n"
     ]
    }
   ],
   "source": [
    "generate_elements_and_minimal_polynomials(5,0b100101,0b10)"
   ],
   "metadata": {
    "collapsed": false,
    "ExecuteTime": {
     "end_time": "2024-03-10T14:12:12.794866500Z",
     "start_time": "2024-03-10T14:12:12.749182300Z"
    }
   },
   "id": "8d651e6d1f841f06",
   "execution_count": 18
  },
  {
   "cell_type": "markdown",
   "source": [
    "#### № 9-12 Проверить на примитивность неприводимый многочлен 100101, 110111, 1011011, 1100001"
   ],
   "metadata": {
    "collapsed": false
   },
   "id": "755a71274141abb"
  },
  {
   "cell_type": "code",
   "outputs": [
    {
     "name": "stdout",
     "output_type": "stream",
     "text": [
      "Пример 1.\n",
      "Многочлен F(x): [1, 0, 0, 1, 0, 1]\n",
      "Проверка на примитивность:\n",
      "Результат: False\n",
      "--------------------------------------------------\n",
      "Пример 2.\n",
      "Многочлен F(x): [1, 1, 0, 1, 1, 1]\n",
      "Проверка на примитивность:\n",
      "Результат: False\n",
      "--------------------------------------------------\n",
      "Пример 3.\n",
      "Многочлен F(x): [1, 0, 1, 1, 0, 1, 1]\n",
      "Проверка на примитивность:\n",
      "Результат: False\n",
      "--------------------------------------------------\n",
      "Пример 4.\n",
      "Многочлен F(x): [1, 1, 0, 0, 0, 0, 1]\n",
      "Проверка на примитивность:\n",
      "Результат: False\n",
      "--------------------------------------------------\n"
     ]
    }
   ],
   "source": [
    "# Примеры из задачи\n",
    "is_irreducible_examples = [\n",
    "    [1, 0, 0, 1, 0, 1],\n",
    "    [1, 1, 0, 1, 1, 1],\n",
    "    [1, 0, 1, 1, 0, 1, 1],\n",
    "    [1, 1, 0, 0, 0, 0, 1]\n",
    "]\n",
    "\n",
    "irr_polynomials = [\n",
    "    [1, 1, 1],  # x^2 + x + 1\n",
    "    [1, 0, 1, 1],  # x^3 + x + 1\n",
    "    [1, 0, 0, 1, 1],  # x^4 + x + 1\n",
    "    [1, 0, 0, 1, 0, 1],  # x^5 + x^2 + 1\n",
    "    [1, 0, 0, 0, 0, 1, 1],  # x^6 + x + 1\n",
    "    [1, 0, 0, 0, 0, 0, 1, 1],  # x^7 + x + 1\n",
    "    [1, 0, 0, 0, 1, 1, 1, 0, 1],  # x^8 + x^4 + x^3 + x^2 + 1\n",
    "    [1, 0, 0, 0, 0, 1, 0, 0, 0, 1],  # x^9 + x^4 + 1\n",
    "    [1, 0, 0, 0, 0, 0, 0, 1, 0, 0, 1],  # x^10 + x^3 + 1\n",
    "    [1, 0, 0, 0, 0, 0, 0, 0, 0, 1, 0, 1],  # x^11 + x^2 + 1\n",
    "    [1, 0, 0, 0, 0, 0, 1, 0, 1, 0, 0, 1, 1],  # x^12 + x^6 + x^4 + x + 1\n",
    "    [1, 0, 0, 0, 0, 0, 0, 0, 0, 1, 1, 0, 1, 1],  # x^13 + x^4 + x^3 + x + 1\n",
    "    [1, 0, 0, 0, 0, 0, 0, 0, 0, 0, 0, 0, 1, 1, 1],  # x^14 + x^10 + x^ 6 + x + 1\n",
    "    [1, 0, 0, 0, 0, 0, 0, 0, 0, 0, 0, 0, 0, 0, 1, 1],  # x^15 + x + 1\n",
    "    [1, 0, 0, 0, 1, 0, 0, 0, 0, 0, 0, 0, 1, 0, 1, 1],  # x^16 + x^12 + x^3 + x + 1\n",
    "]\n",
    "\n",
    "\n",
    "def is_irreduciblle(poly):\n",
    "    # Полиномы степени 0 и 1 всегда неприводимы\n",
    "    if len(poly) <= 2:\n",
    "        return True\n",
    "    elif len(poly) > 16:\n",
    "        print(\"Максимальная степень до степени 16.\")\n",
    "        return False\n",
    "\n",
    "    # Проверяем содержит ли irr_polynomials полином\n",
    "    if poly in irr_polynomials:\n",
    "        return True\n",
    "    else:\n",
    "        return False\n",
    "\n",
    "\n",
    "def prime_factors(n):\n",
    "    i = 2\n",
    "    factors = []\n",
    "    while i * i <= n:\n",
    "        if n % i:\n",
    "            i += 1\n",
    "        else:\n",
    "            n //= i\n",
    "            factors.append(i)\n",
    "    if n > 1:\n",
    "        factors.append(n)\n",
    "    return factors\n",
    "\n",
    "\n",
    "def gf2_poly_powmod(x, k, mod_poly):\n",
    "    result = [1]  # многочлен степени 0\n",
    "    while k > 0:\n",
    "        if k & 1:\n",
    "            result = gf2_poly_mod(gf2_poly_mul(result, x), mod_poly)\n",
    "        x = gf2_poly_mod(gf2_poly_mul(x, x), mod_poly)\n",
    "        k >>= 1\n",
    "    return result\n",
    "\n",
    "\n",
    "\n",
    "def gf2_poly_mod(poly, mod_poly):\n",
    "    def degree(p):\n",
    "        while p and p[-1] == 0:\n",
    "            p.pop()  # Удаляем нулевые коэффициенты с конца\n",
    "        return len(p) - 1\n",
    "\n",
    "    dp = degree(poly)\n",
    "    dm = degree(mod_poly)\n",
    "    while dp >= dm:\n",
    "        diff = [0]*(dp - dm) + mod_poly\n",
    "        for i in range(len(poly)):\n",
    "            poly[i] ^= diff[i]\n",
    "        dp = degree(poly)\n",
    "    return poly\n",
    "\n",
    "\n",
    "def gf2_poly_mul(a, b):\n",
    "    result = [0] * (len(a) + len(b) - 1)\n",
    "    for i, coeff_a in enumerate(a):\n",
    "        for j, coeff_b in enumerate(b):\n",
    "            result[i + j] ^= (coeff_a & coeff_b)\n",
    "    return result\n",
    "\n",
    "\n",
    "def is_primitive(poly):\n",
    "    if not is_irreduciblle(poly):\n",
    "        return False\n",
    "\n",
    "    n = len(poly) - 1  # Степень многочлена\n",
    "    order = 2 ** n - 1\n",
    "\n",
    "    # Проверка, что x^(2^n - 1) ≡ 1 (mod poly)\n",
    "    if gf2_poly_powmod([1, 0], order, poly) != [1]:\n",
    "        return False\n",
    "\n",
    "    # Проверка, что условие не выполняется для любого делителя 2^n - 1\n",
    "    for q in prime_factors(order):\n",
    "        if gf2_poly_powmod([1, 0], order // q, poly) == [1]:\n",
    "            return False\n",
    "\n",
    "    return True\n",
    "\n",
    "\n",
    "#\n",
    "# Выполнение операций для каждого примера\n",
    "for i, f in enumerate(is_irreducible_examples, start=1):\n",
    "    print(f\"Пример {i}.\")\n",
    "    print(f\"Многочлен F(x): {f}\")\n",
    "    print(\"Проверка на примитивность:\")\n",
    "    print(\"Результат:\", is_primitive(f))\n",
    "    print(\"-\" * 50)"
   ],
   "metadata": {
    "collapsed": false,
    "ExecuteTime": {
     "end_time": "2024-03-10T14:12:12.836242200Z",
     "start_time": "2024-03-10T14:12:12.809295400Z"
    }
   },
   "id": "466b48957a72ed68",
   "execution_count": 19
  }
 ],
 "metadata": {
  "kernelspec": {
   "display_name": "Python 3",
   "language": "python",
   "name": "python3"
  },
  "language_info": {
   "codemirror_mode": {
    "name": "ipython",
    "version": 2
   },
   "file_extension": ".py",
   "mimetype": "text/x-python",
   "name": "python",
   "nbconvert_exporter": "python",
   "pygments_lexer": "ipython2",
   "version": "2.7.6"
  }
 },
 "nbformat": 4,
 "nbformat_minor": 5
}
