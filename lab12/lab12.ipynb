{
 "cells": [
  {
   "cell_type": "markdown",
   "source": [
    "\n",
    "**Описание процесса подписи:**\n",
    "\n",
    "1. **Генерация ключей:** Сначала мы генерируем пару ключей: приватный и публичный. Приватный ключ используется для подписи сообщений, а публичный ключ — для проверки подписи.\n",
    "\n",
    "2. **Подписание файла:** После генерации ключей мы берем файл, который мы хотим подписать (в нашем случае это строка \"This is a secret message. Do not share it with anyone!\"). С использованием приватного ключа мы подписываем содержимое файла. Это происходит с помощью алгоритма ECDSA, который использует SHA-256 для хэширования данных перед подписью.\n",
    "\n",
    "3. **Проверка подписи:** После подписания файла мы можем проверить подпись. Для этого мы берем оригинальное содержимое файла, подпись и публичный ключ. Мы используем публичный ключ для проверки подписи. Если подпись верна, то она соответствует ожидаемому результату подписи оригинальных данных, и процесс вернет True. Если подпись не совпадает с ожидаемым результатом, то вернется False.\n",
    "\n",
    "[!NOTE]\n",
    "Мы используе библиотеку `cryptography` для генерации ключей и подписи файлов с использованием алгоритма ECDSA (Elliptic Curve Digital Signature Algorithm). Мы также используем алгоритм хэширования SHA-256 для хэширования данных перед подписью.\n"
   ],
   "metadata": {
    "collapsed": false
   },
   "id": "44d69daa64d5327a"
  },
  {
   "cell_type": "code",
   "execution_count": 5,
   "id": "initial_id",
   "metadata": {
    "collapsed": true,
    "ExecuteTime": {
     "end_time": "2024-03-19T04:19:34.732875400Z",
     "start_time": "2024-03-19T04:19:34.722831900Z"
    }
   },
   "outputs": [
    {
     "name": "stdout",
     "output_type": "stream",
     "text": [
      "Private Key: secp256r1 22404905159002588282642572155049452433434057159267017572789598628377988525263\n",
      "Public Key: secp256r1 65700611243856799084400444889143251157460342380844334923365941802102514222005 6901740016584869381552242257821050494965091800944256369490508504157804204369\n",
      "File Data: b'This is a secret message. Do not share it with anyone!'\n",
      "Signature: b'0D\\x02 5j\\xcb*\\x03\\xbba>\\x1dX[Y\\xb93\\xa9\\x91M\\xfd\\xb3\\rl\\xc6x\\x08\\xc6\\xdb\\xa1\\xbe^\\x99\\xf8\\xbf\\x02 h\\xa17\\x8c\\xa0}\\xf6Y\\xcf\\x97\\x8f<d\\xad\\x95\\x95\\xbb\\xc2\\xda\\xceH\\x0e\\x11\\xe1 \\x84\\x0cm~\\xa2\\n7'\n",
      "Is the signature valid? True\n"
     ]
    }
   ],
   "source": [
    "from cryptography.exceptions import InvalidSignature\n",
    "from cryptography.hazmat.backends import default_backend\n",
    "from cryptography.hazmat.primitives import hashes\n",
    "from cryptography.hazmat.primitives.asymmetric import ec\n",
    "\n",
    "\n",
    "def generate_ECDSA_key_pair():\n",
    "    # Генерация приватного и публичного ключей\n",
    "    private_key = ec.generate_private_key(ec.SECP256R1(), default_backend())\n",
    "    public_key = private_key.public_key()\n",
    "    return private_key, public_key\n",
    "\n",
    "\n",
    "def sign_file(file_data, private_key):\n",
    "    # Подписание файла с использованием приватного ключа\n",
    "    signature = private_key.sign(file_data, ec.ECDSA(hashes.SHA256()))\n",
    "    return signature\n",
    "\n",
    "\n",
    "def verify_signature(signature, file_data, public_key):\n",
    "    try:\n",
    "        # Проверка подписи с использованием публичного ключа\n",
    "        public_key.verify(signature, file_data, ec.ECDSA(hashes.SHA256()))\n",
    "        return True\n",
    "    except InvalidSignature:\n",
    "        return False\n",
    "\n",
    "\n",
    "# Генерируем ключи\n",
    "private_key, public_key = generate_ECDSA_key_pair()\n",
    "print(\"Private Key:\", private_key.curve.name, private_key.private_numbers().private_value)\n",
    "print(\"Public Key:\", public_key.curve.name, public_key.public_numbers().x, public_key.public_numbers().y)\n",
    "\n",
    "# Пример текста файла для подписи\n",
    "file_data = b\"This is a secret message. Do not share it with anyone!\"\n",
    "print(\"File Data:\", file_data)\n",
    "\n",
    "# Подписываем файл\n",
    "signature = sign_file(file_data, private_key)\n",
    "print(\"Signature:\", signature)\n",
    "\n",
    "# Проверяем подпись\n",
    "is_valid_signature = verify_signature(signature, file_data, public_key)\n",
    "print(\"Is the signature valid?\", is_valid_signature)\n"
   ]
  }
 ],
 "metadata": {
  "kernelspec": {
   "display_name": "Python 3",
   "language": "python",
   "name": "python3"
  },
  "language_info": {
   "codemirror_mode": {
    "name": "ipython",
    "version": 2
   },
   "file_extension": ".py",
   "mimetype": "text/x-python",
   "name": "python",
   "nbconvert_exporter": "python",
   "pygments_lexer": "ipython2",
   "version": "2.7.6"
  }
 },
 "nbformat": 4,
 "nbformat_minor": 5
}
