{
 "cells": [
  {
   "cell_type": "markdown",
   "source": [
    "Код представляет собой реализацию алгоритма Advanced Encryption Standard (AES), который является симметричным алгоритмом блочного шифрования. Давайте разберем, как работает этот код:\n",
    "\n",
    "1. **Sbox и InvSbox**: Это таблицы замещения (S-box), используемые для замены байтов в процессе шифрования и дешифрования. Sbox преобразует каждый байт в другой байт, а InvSbox осуществляет обратную операцию.\n",
    "\n",
    "2. **xtime**: Это функция, которая умножает байт на x в поле Галуа (GF(2^8)), которая используется в операциях MixColumns и InvMixColumns.\n",
    "\n",
    "3. **Rcon**: Это таблица, используемая для генерации раундовых ключей.\n",
    "\n",
    "4. **text2matrix и matrix2text**: Это вспомогательные функции, которые преобразуют данные между форматом матрицы и числом (для текста в матрицу и наоборот).\n",
    "\n",
    "5. **AES класс**: Этот класс реализует шифрование и дешифрование с помощью алгоритма AES. Конструктор `__init__` и метод `change_key` используются для инициализации и изменения ключа шифрования. Методы `encrypt` и `decrypt` выполняют шифрование и дешифрование соответственно.\n",
    "\n",
    "6. **Внутренние методы**:\n",
    "    - `__add_round_key`: Добавляет раундовый ключ к состоянию.\n",
    "    - `__round_encrypt` и `__round_decrypt`: Одна и та же функция для преобразования состояния в каждом раунде шифрования и дешифрования.\n",
    "    - `__sub_bytes` и `__inv_sub_bytes`: Заменяют байты в матрице состояния, используя S-box и InvSbox соответственно.\n",
    "    - `__shift_rows` и `__inv_shift_rows`: Выполняют циклический сдвиг строк в матрице состояния для шифрования и дешифрования соответственно.\n",
    "    - `__mix_columns` и `__inv_mix_columns`: Выполняют операцию MixColumns и InvMixColumns соответственно.\n",
    "    \n",
    "7. **Тестирование**: В коде также содержится набор тестов, который проверяет правильность работы методов шифрования и дешифрования.\n",
    "\n",
    "Этот код представляет собой полную реализацию алгоритма AES в Python, позволяя выполнять шифрование и дешифрование данных с использованием этого алгоритма.\n",
    "\n",
    "Пример использования кода для шифрования и дешифрования сообщения с использованием режима CTR:\n"
   ],
   "metadata": {
    "collapsed": false
   },
   "id": "91298574ed816124"
  },
  {
   "cell_type": "code",
   "execution_count": 20,
   "id": "initial_id",
   "metadata": {
    "collapsed": true,
    "ExecuteTime": {
     "end_time": "2024-03-19T05:48:46.136532800Z",
     "start_time": "2024-03-19T05:48:46.120497700Z"
    }
   },
   "outputs": [
    {
     "name": "stdout",
     "output_type": "stream",
     "text": [
      "\n",
      "key:  b'\\x05\\x9fI$r\\x7f\\x02<\\xc7\\x80F~%\\x16]\\r' len:  16 type:  <class 'bytes'> \n",
      "\n",
      "iv:  b'\\xaf\\x05\\x81\\x81]}|1\\x9e(\\xb4Q\\xd1\\xaf\\xccF' len:  16 type:  <class 'bytes'> \n",
      "\n",
      "message:  b'This is a secret message. Do not share it with anyone!' len:  54 type:  <class 'bytes'> \n",
      "\n",
      "encrypted:  b'\\t\\xffb\\x81^6V\\xfc{\\xf5\\x8e\\xbb\\x03\\xf7#\\xddb\\xa9o#\\xa4i\\x01~\\xeb8\\xbf\\xfb;\\xd6\\x82\\xecH\\xc4l\\x85\\xab=@\\x92H\\xc6/\\xd5!\\xb0Z`zE5)\\xa5\\n' len:  54 type:  <class 'bytes'> \n",
      "\n",
      "decrypted:  b'This is a secret message. Do not share it with anyone!' len:  54 type:  <class 'bytes'> \n"
     ]
    }
   ],
   "source": [
    "import aes, os\n",
    "\n",
    "#example of using the AES class to encrypt and decrypt a message using the CTR mode\n",
    "# generate a random key and iv\n",
    "key = os.urandom(16)\n",
    "print(\"\\nkey: \", key,\"len: \", len(key), \"type: \", type(key), \"\\n\")\n",
    "iv = os.urandom(16)\n",
    "print(\"iv: \", iv,\"len: \", len(iv), \"type: \", type(iv), \"\\n\")\n",
    "# create an AES object\n",
    "aes = aes.AES(key)\n",
    "message = b'This is a secret message. Do not share it with anyone!'\n",
    "print(\"message: \", message, \"len: \", len(message), \"type: \", type(message), \"\\n\")\n",
    "# encrypt the message\n",
    "encrypted = aes.encrypt_ctr(message, iv)\n",
    "print(\"encrypted: \", encrypted, \"len: \", len(encrypted), \"type: \", type(encrypted), \"\\n\")\n",
    "# decrypt the message\n",
    "decrypted = aes.decrypt_ctr(encrypted, iv)\n",
    "print(\"decrypted: \", decrypted, \"len: \", len(decrypted), \"type: \", type(decrypted), \"\\n\")\n"
   ]
  },
  {
   "cell_type": "code",
   "outputs": [
    {
     "name": "stdout",
     "output_type": "stream",
     "text": [
      "\n",
      "key:  b'(\\xc8\\x88:\\xb9V\\x08}P\\xc8\\x14\\xfd\\xc2\\xc0\\xe8\\xfd' len:  16 type:  <class 'bytes'> \n",
      "\n",
      "iv:  b'$\\xe2#W\\xefm`\\xd3\\xdcu\\xb6G\\x136\\xdc\\xb2' len:  16 type:  <class 'bytes'> \n",
      "\n",
      "message:  b'This is a secret message. Do not share it with anyone!' len:  54 type:  <class 'bytes'> \n",
      "\n",
      "encrypted:  b'\\xa5#G\\xcb}\\x83\\xd2A\\xd9\";\\xe3\\xd6\\x82\\x9c3\\xc5\\xc2R\\x86l\\xa9`\\xd93\\xa5Mj1\\t^\\xde\\x96\\x92\\xa9\\xbc\\xe4\\x15.\\xa5\\x05\\xb9\\xf5\\xae)\\xbf\\x03n\\xf1\\xc6\\xf0t\\xd6\\x0f' len:  54 type:  <class 'bytes'> \n",
      "\n",
      "decrypted:  b'This is a secret message. Do not share it with anyone!' len:  54 type:  <class 'bytes'> \n"
     ]
    }
   ],
   "source": [
    "import aes, os\n",
    "\n",
    "#example of using the AES class to encrypt and decrypt a message using the CFB mode\n",
    "\n",
    "# generate a random key and iv\n",
    "key = os.urandom(16)\n",
    "print(\"\\nkey: \", key,\"len: \", len(key), \"type: \", type(key), \"\\n\")\n",
    "iv = os.urandom(16)\n",
    "print(\"iv: \", iv,\"len: \", len(iv), \"type: \", type(iv), \"\\n\")\n",
    "# create an AES object\n",
    "aes = aes.AES(key)\n",
    "message = b'This is a secret message. Do not share it with anyone!'\n",
    "print(\"message: \", message, \"len: \", len(message), \"type: \", type(message), \"\\n\")\n",
    "# encrypt the message\n",
    "encrypted = aes.encrypt_cfb(message, iv)\n",
    "print(\"encrypted: \", encrypted, \"len: \", len(encrypted), \"type: \", type(encrypted), \"\\n\")\n",
    "# decrypt the message\n",
    "decrypted = aes.decrypt_cfb(encrypted, iv)\n",
    "print(\"decrypted: \", decrypted, \"len: \", len(decrypted), \"type: \", type(decrypted), \"\\n\")\n"
   ],
   "metadata": {
    "collapsed": false,
    "ExecuteTime": {
     "end_time": "2024-03-19T05:51:06.919402500Z",
     "start_time": "2024-03-19T05:51:06.913380300Z"
    }
   },
   "id": "f56414831fdc2dda",
   "execution_count": 21
  }
 ],
 "metadata": {
  "kernelspec": {
   "display_name": "Python 3",
   "language": "python",
   "name": "python3"
  },
  "language_info": {
   "codemirror_mode": {
    "name": "ipython",
    "version": 2
   },
   "file_extension": ".py",
   "mimetype": "text/x-python",
   "name": "python",
   "nbconvert_exporter": "python",
   "pygments_lexer": "ipython2",
   "version": "2.7.6"
  }
 },
 "nbformat": 4,
 "nbformat_minor": 5
}
